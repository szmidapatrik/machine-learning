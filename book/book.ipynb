{
 "cells": [
  {
   "cell_type": "markdown",
   "metadata": {},
   "source": [
    "# <div style=\"display: flex; justify-content: center; margin-top: 200px; margin-bottom: 30px;\">**Bevezető a gépi tanulásba**</div>\n",
    "<div style=\"display: flex; justify-content: center; margin-bottom: 200px;\">\n",
    "    <span>Szmida Patrik Péter</span>\n",
    "</div>"
   ]
  },
  {
   "cell_type": "markdown",
   "metadata": {},
   "source": [
    "# *Tartalomjegyzék*\n",
    "\n",
    "### Előszó \n",
    "### I. Felügyelt gépi tanulás\n",
    "#### I. I. Klasszifikáció\n",
    "#### I. II. Regresszió\n"
   ]
  }
 ],
 "metadata": {
  "language_info": {
   "name": "python"
  }
 },
 "nbformat": 4,
 "nbformat_minor": 2
}
