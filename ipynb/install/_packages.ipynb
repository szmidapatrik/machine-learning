{
 "cells": [
  {
   "attachments": {},
   "cell_type": "markdown",
   "metadata": {},
   "source": [
    "# Install"
   ]
  },
  {
   "cell_type": "code",
   "execution_count": 1,
   "metadata": {},
   "outputs": [
    {
     "name": "stdout",
     "output_type": "stream",
     "text": [
      "Collecting numpy\n",
      "  Downloading numpy-1.25.1-cp311-cp311-win_amd64.whl (15.0 MB)\n",
      "                                              0.0/15.0 MB ? eta -:--:--\n",
      "                                              0.1/15.0 MB 1.9 MB/s eta 0:00:08\n",
      "                                              0.3/15.0 MB 4.1 MB/s eta 0:00:04\n",
      "     -                                        0.7/15.0 MB 5.2 MB/s eta 0:00:03\n",
      "     ---                                      1.2/15.0 MB 6.8 MB/s eta 0:00:03\n",
      "     ----                                     1.7/15.0 MB 7.8 MB/s eta 0:00:02\n",
      "     ------                                   2.3/15.0 MB 8.5 MB/s eta 0:00:02\n",
      "     -------                                  2.9/15.0 MB 9.3 MB/s eta 0:00:02\n",
      "     ---------                                3.5/15.0 MB 10.2 MB/s eta 0:00:02\n",
      "     ----------                               4.1/15.0 MB 10.5 MB/s eta 0:00:02\n",
      "     ------------                             4.8/15.0 MB 11.0 MB/s eta 0:00:01\n",
      "     --------------                           5.4/15.0 MB 11.1 MB/s eta 0:00:01\n",
      "     ----------------                         6.0/15.0 MB 11.3 MB/s eta 0:00:01\n",
      "     -----------------                        6.7/15.0 MB 11.6 MB/s eta 0:00:01\n",
      "     -------------------                      7.3/15.0 MB 11.7 MB/s eta 0:00:01\n",
      "     ---------------------                    8.0/15.0 MB 11.6 MB/s eta 0:00:01\n",
      "     ----------------------                   8.6/15.0 MB 11.9 MB/s eta 0:00:01\n",
      "     ------------------------                 9.3/15.0 MB 12.1 MB/s eta 0:00:01\n",
      "     -------------------------               10.0/15.0 MB 12.0 MB/s eta 0:00:01\n",
      "     ---------------------------             10.7/15.0 MB 13.1 MB/s eta 0:00:01\n",
      "     -----------------------------           11.2/15.0 MB 13.6 MB/s eta 0:00:01\n",
      "     -------------------------------         12.0/15.0 MB 13.6 MB/s eta 0:00:01\n",
      "     --------------------------------        12.6/15.0 MB 13.9 MB/s eta 0:00:01\n",
      "     ----------------------------------      13.3/15.0 MB 13.6 MB/s eta 0:00:01\n",
      "     ------------------------------------    13.9/15.0 MB 13.9 MB/s eta 0:00:01\n",
      "     -------------------------------------   14.6/15.0 MB 14.2 MB/s eta 0:00:01\n",
      "     --------------------------------------  15.0/15.0 MB 13.9 MB/s eta 0:00:01\n",
      "     --------------------------------------- 15.0/15.0 MB 12.8 MB/s eta 0:00:00\n",
      "Installing collected packages: numpy\n",
      "Successfully installed numpy-1.25.1\n",
      "Note: you may need to restart the kernel to use updated packages.\n"
     ]
    },
    {
     "name": "stderr",
     "output_type": "stream",
     "text": [
      "\n",
      "[notice] A new release of pip is available: 23.1.2 -> 23.2\n",
      "[notice] To update, run: C:\\Users\\szmid\\AppData\\Local\\Microsoft\\WindowsApps\\PythonSoftwareFoundation.Python.3.11_qbz5n2kfra8p0\\python.exe -m pip install --upgrade pip\n"
     ]
    }
   ],
   "source": [
    "pip install numpy"
   ]
  },
  {
   "cell_type": "code",
   "execution_count": 2,
   "metadata": {},
   "outputs": [
    {
     "name": "stdout",
     "output_type": "stream",
     "text": [
      "Collecting matplotlib\n",
      "  Downloading matplotlib-3.7.2-cp311-cp311-win_amd64.whl (7.5 MB)\n",
      "                                              0.0/7.5 MB ? eta -:--:--\n",
      "                                              0.1/7.5 MB 1.9 MB/s eta 0:00:04\n",
      "     -                                        0.4/7.5 MB 3.7 MB/s eta 0:00:02\n",
      "     ----                                     0.9/7.5 MB 7.0 MB/s eta 0:00:01\n",
      "     -------                                  1.5/7.5 MB 8.4 MB/s eta 0:00:01\n",
      "     ----------                               2.0/7.5 MB 9.3 MB/s eta 0:00:01\n",
      "     --------------                           2.6/7.5 MB 9.9 MB/s eta 0:00:01\n",
      "     -----------------                        3.2/7.5 MB 9.9 MB/s eta 0:00:01\n",
      "     --------------------                     3.8/7.5 MB 10.5 MB/s eta 0:00:01\n",
      "     -----------------------                  4.5/7.5 MB 10.6 MB/s eta 0:00:01\n",
      "     --------------------------               5.0/7.5 MB 11.1 MB/s eta 0:00:01\n",
      "     ------------------------------           5.7/7.5 MB 11.4 MB/s eta 0:00:01\n",
      "     ---------------------------------        6.2/7.5 MB 11.4 MB/s eta 0:00:01\n",
      "     ------------------------------------     6.9/7.5 MB 11.6 MB/s eta 0:00:01\n",
      "     ---------------------------------------  7.4/7.5 MB 11.5 MB/s eta 0:00:01\n",
      "     ---------------------------------------- 7.5/7.5 MB 11.2 MB/s eta 0:00:00\n",
      "Collecting contourpy>=1.0.1 (from matplotlib)\n",
      "  Downloading contourpy-1.1.0-cp311-cp311-win_amd64.whl (470 kB)\n",
      "                                              0.0/470.9 kB ? eta -:--:--\n",
      "     ------------------------------------- 470.9/470.9 kB 14.9 MB/s eta 0:00:00\n",
      "Collecting cycler>=0.10 (from matplotlib)\n",
      "  Downloading cycler-0.11.0-py3-none-any.whl (6.4 kB)\n",
      "Collecting fonttools>=4.22.0 (from matplotlib)\n",
      "  Downloading fonttools-4.41.0-cp311-cp311-win_amd64.whl (2.0 MB)\n",
      "                                              0.0/2.0 MB ? eta -:--:--\n",
      "     -----------                              0.5/2.0 MB 16.6 MB/s eta 0:00:01\n",
      "     ------------------------                 1.2/2.0 MB 15.4 MB/s eta 0:00:01\n",
      "     --------------------------------------   1.9/2.0 MB 14.8 MB/s eta 0:00:01\n",
      "     ---------------------------------------- 2.0/2.0 MB 13.8 MB/s eta 0:00:00\n",
      "Collecting kiwisolver>=1.0.1 (from matplotlib)\n",
      "  Downloading kiwisolver-1.4.4-cp311-cp311-win_amd64.whl (55 kB)\n",
      "                                              0.0/55.4 kB ? eta -:--:--\n",
      "     ---------------------------------------- 55.4/55.4 kB 2.8 MB/s eta 0:00:00\n",
      "Requirement already satisfied: numpy>=1.20 in c:\\users\\szmid\\appdata\\local\\packages\\pythonsoftwarefoundation.python.3.11_qbz5n2kfra8p0\\localcache\\local-packages\\python311\\site-packages (from matplotlib) (1.25.1)\n",
      "Requirement already satisfied: packaging>=20.0 in c:\\users\\szmid\\appdata\\local\\packages\\pythonsoftwarefoundation.python.3.11_qbz5n2kfra8p0\\localcache\\local-packages\\python311\\site-packages (from matplotlib) (23.1)\n",
      "Collecting pillow>=6.2.0 (from matplotlib)\n",
      "  Downloading Pillow-10.0.0-cp311-cp311-win_amd64.whl (2.5 MB)\n",
      "                                              0.0/2.5 MB ? eta -:--:--\n",
      "     ---------                                0.6/2.5 MB 13.1 MB/s eta 0:00:01\n",
      "     ---------------------                    1.3/2.5 MB 14.1 MB/s eta 0:00:01\n",
      "     -------------------------------          2.0/2.5 MB 14.2 MB/s eta 0:00:01\n",
      "     ---------------------------------------  2.5/2.5 MB 14.5 MB/s eta 0:00:01\n",
      "     ---------------------------------------- 2.5/2.5 MB 12.3 MB/s eta 0:00:00\n",
      "Collecting pyparsing<3.1,>=2.3.1 (from matplotlib)\n",
      "  Downloading pyparsing-3.0.9-py3-none-any.whl (98 kB)\n",
      "                                              0.0/98.3 kB ? eta -:--:--\n",
      "     ---------------------------------------- 98.3/98.3 kB ? eta 0:00:00\n",
      "Requirement already satisfied: python-dateutil>=2.7 in c:\\users\\szmid\\appdata\\local\\packages\\pythonsoftwarefoundation.python.3.11_qbz5n2kfra8p0\\localcache\\local-packages\\python311\\site-packages (from matplotlib) (2.8.2)\n",
      "Requirement already satisfied: six>=1.5 in c:\\users\\szmid\\appdata\\local\\packages\\pythonsoftwarefoundation.python.3.11_qbz5n2kfra8p0\\localcache\\local-packages\\python311\\site-packages (from python-dateutil>=2.7->matplotlib) (1.16.0)\n",
      "Installing collected packages: pyparsing, pillow, kiwisolver, fonttools, cycler, contourpy, matplotlib\n",
      "Successfully installed contourpy-1.1.0 cycler-0.11.0 fonttools-4.41.0 kiwisolver-1.4.4 matplotlib-3.7.2 pillow-10.0.0 pyparsing-3.0.9\n",
      "Note: you may need to restart the kernel to use updated packages.\n"
     ]
    },
    {
     "name": "stderr",
     "output_type": "stream",
     "text": [
      "\n",
      "[notice] A new release of pip is available: 23.1.2 -> 23.2\n",
      "[notice] To update, run: C:\\Users\\szmid\\AppData\\Local\\Microsoft\\WindowsApps\\PythonSoftwareFoundation.Python.3.11_qbz5n2kfra8p0\\python.exe -m pip install --upgrade pip\n"
     ]
    }
   ],
   "source": [
    "pip install matplotlib"
   ]
  }
 ],
 "metadata": {
  "kernelspec": {
   "display_name": "Python 3",
   "language": "python",
   "name": "python3"
  },
  "language_info": {
   "codemirror_mode": {
    "name": "ipython",
    "version": 3
   },
   "file_extension": ".py",
   "mimetype": "text/x-python",
   "name": "python",
   "nbconvert_exporter": "python",
   "pygments_lexer": "ipython3",
   "version": "3.11.4"
  },
  "orig_nbformat": 4
 },
 "nbformat": 4,
 "nbformat_minor": 2
}
